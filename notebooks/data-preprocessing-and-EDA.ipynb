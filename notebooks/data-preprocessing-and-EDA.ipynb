{
  "nbformat": 4,
  "nbformat_minor": 0,
  "metadata": {
    "colab": {
      "provenance": [],
      "include_colab_link": true
    },
    "kernelspec": {
      "name": "python3",
      "display_name": "Python 3"
    },
    "language_info": {
      "name": "python"
    }
  },
  "cells": [
    {
      "cell_type": "markdown",
      "metadata": {
        "id": "view-in-github",
        "colab_type": "text"
      },
      "source": [
        "<a href=\"https://colab.research.google.com/github/ashishlamsal/sentiment-analysis/blob/main/notebooks/data-preprocessing-and-EDA.ipynb\" target=\"_parent\"><img src=\"https://colab.research.google.com/assets/colab-badge.svg\" alt=\"Open In Colab\"/></a>"
      ]
    },
    {
      "cell_type": "code",
      "execution_count": null,
      "metadata": {
        "colab": {
          "base_uri": "https://localhost:8080/"
        },
        "id": "dm5YW96Pk_st",
        "outputId": "8a7fd5aa-cdaf-4c40-e783-a0bcadb35eab"
      },
      "outputs": [
        {
          "output_type": "stream",
          "name": "stdout",
          "text": [
            "Mounted at /content/drive\n"
          ]
        }
      ],
      "source": [
        "from google.colab import drive\n",
        "drive.mount('/content/drive')"
      ]
    },
    {
      "cell_type": "code",
      "source": [
        "import numpy as np\n",
        "import pandas as pd\n",
        "from collections import Counter\n",
        "\n",
        "import unicodedata\n",
        "import nltk\n",
        "from nltk.tokenize import word_tokenize\n",
        "nltk.download('punkt')\n",
        "\n",
        "import seaborn as sns\n",
        "import matplotlib.pyplot as plt\n",
        "from matplotlib import font_manager as fm\n",
        "plt.rcParams[\"figure.dpi\"] = 100\n",
        "fprop = fm.FontProperties(fname='/content/drive/MyDrive/fusemachines/sentiment-analysis/font/Mangal_Regular.ttf')"
      ],
      "metadata": {
        "id": "sGYOFy_FmWkW",
        "colab": {
          "base_uri": "https://localhost:8080/"
        },
        "outputId": "32a2281a-e81e-49f1-be05-73042a8e6a2d"
      },
      "execution_count": null,
      "outputs": [
        {
          "output_type": "stream",
          "name": "stderr",
          "text": [
            "[nltk_data] Downloading package punkt to /root/nltk_data...\n",
            "[nltk_data]   Unzipping tokenizers/punkt.zip.\n"
          ]
        }
      ]
    },
    {
      "cell_type": "markdown",
      "source": [
        "# Load Dataset"
      ],
      "metadata": {
        "id": "ZPDboepEm8Vv"
      }
    },
    {
      "cell_type": "code",
      "source": [
        "# load dataset\n",
        "path = r\"/content/drive/MyDrive/fusemachines/sentiment-analysis/dataset/raw/covid19_tweeter_dataset.csv\"\n",
        "\n",
        "df = pd.read_csv(path)\n",
        "df.head()"
      ],
      "metadata": {
        "colab": {
          "base_uri": "https://localhost:8080/",
          "height": 206
        },
        "id": "-OaeeypYl1w4",
        "outputId": "d0b9138b-3ec8-428f-b0d5-3123b0283f87"
      },
      "execution_count": null,
      "outputs": [
        {
          "output_type": "execute_result",
          "data": {
            "text/plain": [
              "   Unnamed: 0 Label                   Datetime  \\\n",
              "0           0    -1  2021-01-10 22:06:41+00:00   \n",
              "1           1    -1  2021-01-10 17:49:34+00:00   \n",
              "2           2     1  2021-01-10 16:18:34+00:00   \n",
              "3           3     0  2021-01-10 15:12:17+00:00   \n",
              "4           4    -1  2021-01-10 15:07:12+00:00   \n",
              "\n",
              "                                               Tweet  \\\n",
              "0  अमेरिकामा कोभिड बाट एकै दिन चार हजारभन्दा बढीक...   \n",
              "1  कोभिड का कारण विदेशमा रहेका नेपालीहरुमा मानसिक...   \n",
              "2  नेपालमा क्लोभर बायोफार्मास्युटिकल्स अस्ट्रेलिय...   \n",
              "3                            कोभिड को खोप पनि लगाइयो   \n",
              "4  अमेरिकामा कोभिड को नयाँ रेकर्ड एकै दिन हजारभन्...   \n",
              "\n",
              "                                      Tokanize_tweet  \n",
              "0  अमेरिकामा,कोभिड,बाट,एकै,दिन,चार,हजारभन्दा,बढीक...  \n",
              "1  कोभिड,का,कारण,विदेशमा,रहेका,नेपालीहरुमा,मानसिक...  \n",
              "2  नेपालमा,क्लोभर,बायोफार्मास्युटिकल्स,अस्ट्रेलिय...  \n",
              "3                            कोभिड,को,खोप,पनि,लगाइयो  \n",
              "4  अमेरिकामा,कोभिड,को,नयाँ,रेकर्ड,एकै,दिन,हजारभन्...  "
            ],
            "text/html": [
              "\n",
              "  <div id=\"df-176c33a8-812b-4245-a169-42b93ac5f652\">\n",
              "    <div class=\"colab-df-container\">\n",
              "      <div>\n",
              "<style scoped>\n",
              "    .dataframe tbody tr th:only-of-type {\n",
              "        vertical-align: middle;\n",
              "    }\n",
              "\n",
              "    .dataframe tbody tr th {\n",
              "        vertical-align: top;\n",
              "    }\n",
              "\n",
              "    .dataframe thead th {\n",
              "        text-align: right;\n",
              "    }\n",
              "</style>\n",
              "<table border=\"1\" class=\"dataframe\">\n",
              "  <thead>\n",
              "    <tr style=\"text-align: right;\">\n",
              "      <th></th>\n",
              "      <th>Unnamed: 0</th>\n",
              "      <th>Label</th>\n",
              "      <th>Datetime</th>\n",
              "      <th>Tweet</th>\n",
              "      <th>Tokanize_tweet</th>\n",
              "    </tr>\n",
              "  </thead>\n",
              "  <tbody>\n",
              "    <tr>\n",
              "      <th>0</th>\n",
              "      <td>0</td>\n",
              "      <td>-1</td>\n",
              "      <td>2021-01-10 22:06:41+00:00</td>\n",
              "      <td>अमेरिकामा कोभिड बाट एकै दिन चार हजारभन्दा बढीक...</td>\n",
              "      <td>अमेरिकामा,कोभिड,बाट,एकै,दिन,चार,हजारभन्दा,बढीक...</td>\n",
              "    </tr>\n",
              "    <tr>\n",
              "      <th>1</th>\n",
              "      <td>1</td>\n",
              "      <td>-1</td>\n",
              "      <td>2021-01-10 17:49:34+00:00</td>\n",
              "      <td>कोभिड का कारण विदेशमा रहेका नेपालीहरुमा मानसिक...</td>\n",
              "      <td>कोभिड,का,कारण,विदेशमा,रहेका,नेपालीहरुमा,मानसिक...</td>\n",
              "    </tr>\n",
              "    <tr>\n",
              "      <th>2</th>\n",
              "      <td>2</td>\n",
              "      <td>1</td>\n",
              "      <td>2021-01-10 16:18:34+00:00</td>\n",
              "      <td>नेपालमा क्लोभर बायोफार्मास्युटिकल्स अस्ट्रेलिय...</td>\n",
              "      <td>नेपालमा,क्लोभर,बायोफार्मास्युटिकल्स,अस्ट्रेलिय...</td>\n",
              "    </tr>\n",
              "    <tr>\n",
              "      <th>3</th>\n",
              "      <td>3</td>\n",
              "      <td>0</td>\n",
              "      <td>2021-01-10 15:12:17+00:00</td>\n",
              "      <td>कोभिड को खोप पनि लगाइयो</td>\n",
              "      <td>कोभिड,को,खोप,पनि,लगाइयो</td>\n",
              "    </tr>\n",
              "    <tr>\n",
              "      <th>4</th>\n",
              "      <td>4</td>\n",
              "      <td>-1</td>\n",
              "      <td>2021-01-10 15:07:12+00:00</td>\n",
              "      <td>अमेरिकामा कोभिड को नयाँ रेकर्ड एकै दिन हजारभन्...</td>\n",
              "      <td>अमेरिकामा,कोभिड,को,नयाँ,रेकर्ड,एकै,दिन,हजारभन्...</td>\n",
              "    </tr>\n",
              "  </tbody>\n",
              "</table>\n",
              "</div>\n",
              "      <button class=\"colab-df-convert\" onclick=\"convertToInteractive('df-176c33a8-812b-4245-a169-42b93ac5f652')\"\n",
              "              title=\"Convert this dataframe to an interactive table.\"\n",
              "              style=\"display:none;\">\n",
              "        \n",
              "  <svg xmlns=\"http://www.w3.org/2000/svg\" height=\"24px\"viewBox=\"0 0 24 24\"\n",
              "       width=\"24px\">\n",
              "    <path d=\"M0 0h24v24H0V0z\" fill=\"none\"/>\n",
              "    <path d=\"M18.56 5.44l.94 2.06.94-2.06 2.06-.94-2.06-.94-.94-2.06-.94 2.06-2.06.94zm-11 1L8.5 8.5l.94-2.06 2.06-.94-2.06-.94L8.5 2.5l-.94 2.06-2.06.94zm10 10l.94 2.06.94-2.06 2.06-.94-2.06-.94-.94-2.06-.94 2.06-2.06.94z\"/><path d=\"M17.41 7.96l-1.37-1.37c-.4-.4-.92-.59-1.43-.59-.52 0-1.04.2-1.43.59L10.3 9.45l-7.72 7.72c-.78.78-.78 2.05 0 2.83L4 21.41c.39.39.9.59 1.41.59.51 0 1.02-.2 1.41-.59l7.78-7.78 2.81-2.81c.8-.78.8-2.07 0-2.86zM5.41 20L4 18.59l7.72-7.72 1.47 1.35L5.41 20z\"/>\n",
              "  </svg>\n",
              "      </button>\n",
              "      \n",
              "  <style>\n",
              "    .colab-df-container {\n",
              "      display:flex;\n",
              "      flex-wrap:wrap;\n",
              "      gap: 12px;\n",
              "    }\n",
              "\n",
              "    .colab-df-convert {\n",
              "      background-color: #E8F0FE;\n",
              "      border: none;\n",
              "      border-radius: 50%;\n",
              "      cursor: pointer;\n",
              "      display: none;\n",
              "      fill: #1967D2;\n",
              "      height: 32px;\n",
              "      padding: 0 0 0 0;\n",
              "      width: 32px;\n",
              "    }\n",
              "\n",
              "    .colab-df-convert:hover {\n",
              "      background-color: #E2EBFA;\n",
              "      box-shadow: 0px 1px 2px rgba(60, 64, 67, 0.3), 0px 1px 3px 1px rgba(60, 64, 67, 0.15);\n",
              "      fill: #174EA6;\n",
              "    }\n",
              "\n",
              "    [theme=dark] .colab-df-convert {\n",
              "      background-color: #3B4455;\n",
              "      fill: #D2E3FC;\n",
              "    }\n",
              "\n",
              "    [theme=dark] .colab-df-convert:hover {\n",
              "      background-color: #434B5C;\n",
              "      box-shadow: 0px 1px 3px 1px rgba(0, 0, 0, 0.15);\n",
              "      filter: drop-shadow(0px 1px 2px rgba(0, 0, 0, 0.3));\n",
              "      fill: #FFFFFF;\n",
              "    }\n",
              "  </style>\n",
              "\n",
              "      <script>\n",
              "        const buttonEl =\n",
              "          document.querySelector('#df-176c33a8-812b-4245-a169-42b93ac5f652 button.colab-df-convert');\n",
              "        buttonEl.style.display =\n",
              "          google.colab.kernel.accessAllowed ? 'block' : 'none';\n",
              "\n",
              "        async function convertToInteractive(key) {\n",
              "          const element = document.querySelector('#df-176c33a8-812b-4245-a169-42b93ac5f652');\n",
              "          const dataTable =\n",
              "            await google.colab.kernel.invokeFunction('convertToInteractive',\n",
              "                                                     [key], {});\n",
              "          if (!dataTable) return;\n",
              "\n",
              "          const docLinkHtml = 'Like what you see? Visit the ' +\n",
              "            '<a target=\"_blank\" href=https://colab.research.google.com/notebooks/data_table.ipynb>data table notebook</a>'\n",
              "            + ' to learn more about interactive tables.';\n",
              "          element.innerHTML = '';\n",
              "          dataTable['output_type'] = 'display_data';\n",
              "          await google.colab.output.renderOutput(dataTable, element);\n",
              "          const docLink = document.createElement('div');\n",
              "          docLink.innerHTML = docLinkHtml;\n",
              "          element.appendChild(docLink);\n",
              "        }\n",
              "      </script>\n",
              "    </div>\n",
              "  </div>\n",
              "  "
            ]
          },
          "metadata": {},
          "execution_count": 3
        }
      ]
    },
    {
      "cell_type": "code",
      "source": [
        "df.info()"
      ],
      "metadata": {
        "colab": {
          "base_uri": "https://localhost:8080/"
        },
        "id": "tCmEzLLjnB0w",
        "outputId": "57675a99-6483-4cfa-8900-039704c3ce01"
      },
      "execution_count": null,
      "outputs": [
        {
          "output_type": "stream",
          "name": "stdout",
          "text": [
            "<class 'pandas.core.frame.DataFrame'>\n",
            "RangeIndex: 33474 entries, 0 to 33473\n",
            "Data columns (total 5 columns):\n",
            " #   Column          Non-Null Count  Dtype \n",
            "---  ------          --------------  ----- \n",
            " 0   Unnamed: 0      33474 non-null  int64 \n",
            " 1   Label           33474 non-null  object\n",
            " 2   Datetime        33474 non-null  object\n",
            " 3   Tweet           33474 non-null  object\n",
            " 4   Tokanize_tweet  33471 non-null  object\n",
            "dtypes: int64(1), object(4)\n",
            "memory usage: 1.3+ MB\n"
          ]
        }
      ]
    },
    {
      "cell_type": "markdown",
      "source": [
        "# Data Preprocessing"
      ],
      "metadata": {
        "id": "wzSwjqexnPMs"
      }
    },
    {
      "cell_type": "code",
      "source": [
        "# keep only text and label\n",
        "df_clean = df[['Tweet', 'Label']].rename(columns={'Tweet':'text', 'Label': 'label'})"
      ],
      "metadata": {
        "id": "QSYc8THTnOlF"
      },
      "execution_count": null,
      "outputs": []
    },
    {
      "cell_type": "code",
      "source": [
        "# remove text less than 5 words \n",
        "df_final = df_clean[df_clean['text'].str.split().str.len() >=5]"
      ],
      "metadata": {
        "id": "4EzYvpUotaTl"
      },
      "execution_count": null,
      "outputs": []
    },
    {
      "cell_type": "code",
      "source": [
        "df_final.info()"
      ],
      "metadata": {
        "colab": {
          "base_uri": "https://localhost:8080/"
        },
        "id": "eGPPKLhbqddF",
        "outputId": "5dec812c-3bda-4e01-a443-85d33be1a8f7"
      },
      "execution_count": null,
      "outputs": [
        {
          "output_type": "stream",
          "name": "stdout",
          "text": [
            "<class 'pandas.core.frame.DataFrame'>\n",
            "Int64Index: 32859 entries, 0 to 33473\n",
            "Data columns (total 2 columns):\n",
            " #   Column  Non-Null Count  Dtype \n",
            "---  ------  --------------  ----- \n",
            " 0   text    32859 non-null  object\n",
            " 1   label   32859 non-null  object\n",
            "dtypes: object(2)\n",
            "memory usage: 770.1+ KB\n"
          ]
        }
      ]
    },
    {
      "cell_type": "code",
      "source": [
        "# label contains other values except -1, 0, 1\n",
        "df_final[\"label\"].unique()"
      ],
      "metadata": {
        "colab": {
          "base_uri": "https://localhost:8080/"
        },
        "id": "caTRhcn6LGiH",
        "outputId": "2d363271-078e-4154-b8d2-39eeb4b4c67a"
      },
      "execution_count": null,
      "outputs": [
        {
          "output_type": "execute_result",
          "data": {
            "text/plain": [
              "array(['-1', '1', '0', 'positive\"\"', 'negative\"', ';positive',\n",
              "       \"positive'\\n3929,2020-10-16 12:15:51+00:00,भक्तपुर जिल्ला भित्रका सबै शक्तिपिठ तथा मन्दिरहरूमा नित्य पूजा बाहेक बली दिने दर्शनका लागि भीडभाड गर्ने लगायत कोभिड को संक्रमण फैलन सक्ने अन्य गतिबिधि गर्न निषेध गरिएको सूचना असोज,भक्तपुर\",\n",
              "       'neutral\"\"', ',negative\"\"',\n",
              "       'negative\"\\n6179,2020-09-14 09:24:43+00:00,कोभिड को त्रासले आर्थिक मारमा शहरी गरिब बालबालिका पढेर प्रतिक्रिया दिनुहोला,कोभिड',\n",
              "       'मन्त्रीज्यू,यदि,कतै,वहाँले,भने,जस्तो,स्थिति,रहेछ,भने,बाट,यस्तोयस्तो,अवस्थामा,कोभिड,निशुल्क,परिक्षण,यहाँ,यहाँ,बाट,हुन्छ,भनेर,एउटा,जनहितमा,सुचना,जारी,गर्न,पहल,गर्नुभए,हुन्थ्यो',\n",
              "       \"negative'\\n12021,2020-07-12 03:12:24+00:00,कोरोना भाइरस कोभिड को महामारी फैलिएयता अमेरिकी राष्ट्रपति डोनाल्ड ट्रम्प पहिलो पटक मास्कमा देखिएका छन्,कोरोना\",\n",
              "       \"negative'\\n12025,2020-07-12 02:23:32+00:00,अमिताभ बच्चन र उहाँको छोरो पनि कोभिड संक्रमित भएका छन् उहाँहरू को स्वास्थ्य लाभको कामना सचेत रहौं सुरक्षित रहौं,अमिताभ\",\n",
              "       \"negative'\\n12028,2020-07-12 01:50:59+00:00,कोभिड विश्वमा संक्रमणबाट ज्यान जानेको संख्या पाँच लाख हजार नाघ्यो,कोभिड\",\n",
              "       \"negative'\\n12033,2020-07-11 16:35:47+00:00,कोभिड जनस्वास्थ्यका मापदण्ड पालना गर्न अपिल,कोभिड\",\n",
              "       \"negative'\\n12038,2020-07-11 14:36:23+00:00,कोभिड जस्तो महामारी सायद दशकमा एकचोटि आउला तर बाढीपहिरोले प्रत्येक बर्ष कैयौंको ज्यान लिने र धेरैलाई घरबार बिहिन बनाइदिन्छ यो प्राकृतिक प्रकोपलाई अहिलेको महामारी कोभिड भन्दा बढी प्राथमिकता दिन जरुरी छ,कोभिड\",\n",
              "       \"positive'\\n12095,2020-07-11 02:19:33+00:00,चीनबाटै सुरु भएको कोभिड महामारी पुन फैलिन थालेपछि सन् का लागि तय भएका सबै अन्तर्राष्ट्रिय खेलकुद रद्द भएका छन् चीन अन्तर्राष्ट्रिय प्रतियोगिता रद्द,चीनबाटै\",\n",
              "       \"positive'\\n12120,2020-07-10 16:07:25+00:00,विश्वमा कोभिड को महामारी र लकडाउनले बन्द भएका होटलले होटल श्रमिक अहिले बडो मर्कामा छन् उनीहरूले महिना देखि तलव पाएको छैन होटल महासंघ नेपाल हान लाई आफ्नो होटल व्यवसाय चलाई दिने श्रमिक को केहि चिन्ता छैन फलस्वरूप होटल श्रमिक भोकै छन् अहिले,विश्वमा\",\n",
              "       'positives', 'neutrals',\n",
              "       \"neutral'\\n14892,2020-06-08 09:15:44+00:00,कोभिड को महामारीका कारण भारतबाट बाँकेस्थित जमुनाहा नाका भएर घर फर्किरहेकाहरुका लागि हामीले खानेकुरा पानी र स्वास्थ्य सामग्रीको व्यवस्था गरेका छौं हजार व्यक्तिहरुलाई खानेकुरा खुवाउने लक्ष्य हाम्रो छ मिलेरै लडौ कोरोना भगाउन,कोभिड\",\n",
              "       \"neutral'\\n15732,2020-06-02 17:35:36+00:00,नेपालमा कोरोना संक्रमित हुनेको संख्या दिनदिनै बढिरहेको छ स्वास्थ्य मन्त्रालयका अनुसार अहिले नेपालमा एक हजार सक्रिय संक्रमित छन् कोभिड कोरोना,नेपालमा\",\n",
              "       \"positive'\\n16721,2020-05-26 10:29:31+00:00,नेपालमा साना तथा मध्यम व्यवसाय प्रवर्द्धनमा आईएफसीले सघाउने विश्व ब्याङ्क अन्तर्गतको अन्तर्राष्ट्रिय वित्त निगम आईएफसी ले कोरोनाभाइरस कोभिड बाट शिथिल नेपाली निजी क्षेत्रलाई गतिशील बनाउन सहयोग गर्ने जनाएको छ,नेपालमा\",\n",
              "       \"neutral'\\n16871,2020-05-25 10:19:06+00:00,प्रधानमन्त्री केपी शर्मा ओलीले कोभिड को हालसम्मको अवस्था र अबका रणनीति बारे बिशेष जानकारी गराउन राष्ट्रका नाममा सम्बोधन गर्ने भएका छन्,प्रधानमन्त्री\",\n",
              "       \"positive'\\n17241,2020-05-22 09:35:31+00:00,कोभिड ले बच्चामा पारेका पाँच असर यसरी गर्न सकिन्छ व्यवस्थापन,कोभिड\",\n",
              "       'positive\"', 'Negative', 'positve', '-0--', '31'], dtype=object)"
            ]
          },
          "metadata": {},
          "execution_count": 10
        }
      ]
    },
    {
      "cell_type": "code",
      "source": [
        "# take only rows havinf label -1, 0, 1 \n",
        "df_filtered = df_final[ (df_final['label'] == '1') | (df_final['label'] == '0') | (df_final['label'] == '-1')]"
      ],
      "metadata": {
        "id": "SJYP7x_vMefY"
      },
      "execution_count": null,
      "outputs": []
    },
    {
      "cell_type": "code",
      "source": [
        "df_filtered[\"label\"].value_counts()"
      ],
      "metadata": {
        "colab": {
          "base_uri": "https://localhost:8080/"
        },
        "id": "5qYX7HRnNN53",
        "outputId": "c56b8800-1c70-44d4-df5e-2cedd1c1ff1f"
      },
      "execution_count": null,
      "outputs": [
        {
          "output_type": "execute_result",
          "data": {
            "text/plain": [
              "1     14823\n",
              "-1    13410\n",
              "0      4591\n",
              "Name: label, dtype: int64"
            ]
          },
          "metadata": {},
          "execution_count": 12
        }
      ]
    },
    {
      "cell_type": "markdown",
      "source": [
        "# Exploratory Data Analysis"
      ],
      "metadata": {
        "id": "Wg3XyLzfl97E"
      }
    },
    {
      "cell_type": "code",
      "source": [
        "# create the value_counts series\n",
        "value_counts_series = df_filtered['label'].value_counts()\n",
        "\n",
        "# plot the value_counts series\n",
        "sns.set(rc={'figure.figsize':(8,5)})\n",
        "sns.barplot(x=value_counts_series.index, y=value_counts_series.values)\n",
        "\n",
        "# Get the current Axes object\n",
        "ax = plt.gca()\n",
        "\n",
        "# Set the labels of the x-axis\n",
        "ax.set_xticklabels([\"Positive\", \"Negative\", \"Neutral\"])\n",
        "plt.xticks(rotation=45)\n",
        "\n",
        "# show the plot\n",
        "plt.show()"
      ],
      "metadata": {
        "colab": {
          "base_uri": "https://localhost:8080/",
          "height": 486
        },
        "id": "uEo7vaXgmJEd",
        "outputId": "5ade5f96-d1e4-4cf6-b65d-01d3bc7556c3"
      },
      "execution_count": null,
      "outputs": [
        {
          "output_type": "display_data",
          "data": {
            "text/plain": [
              "<Figure size 800x500 with 1 Axes>"
            ],
            "image/png": "[encoded data removed]"
          },
          "metadata": {}
        }
      ]
    },
    {
      "cell_type": "code",
      "source": [
        "df_filtered.head()"
      ],
      "metadata": {
        "colab": {
          "base_uri": "https://localhost:8080/",
          "height": 206
        },
        "id": "kMDp0UPGmKxr",
        "outputId": "89e24d8c-c6d6-421c-fb1d-a2d92e099cbf"
      },
      "execution_count": null,
      "outputs": [
        {
          "output_type": "execute_result",
          "data": {
            "text/plain": [
              "                                                text label\n",
              "0  अमेरिकामा कोभिड बाट एकै दिन चार हजारभन्दा बढीक...    -1\n",
              "1  कोभिड का कारण विदेशमा रहेका नेपालीहरुमा मानसिक...    -1\n",
              "2  नेपालमा क्लोभर बायोफार्मास्युटिकल्स अस्ट्रेलिय...     1\n",
              "3                            कोभिड को खोप पनि लगाइयो     0\n",
              "4  अमेरिकामा कोभिड को नयाँ रेकर्ड एकै दिन हजारभन्...    -1"
            ],
            "text/html": [
              "\n",
              "  <div id=\"df-c0c85cf3-d21c-41b5-8e4a-8311012a3d2d\">\n",
              "    <div class=\"colab-df-container\">\n",
              "      <div>\n",
              "<style scoped>\n",
              "    .dataframe tbody tr th:only-of-type {\n",
              "        vertical-align: middle;\n",
              "    }\n",
              "\n",
              "    .dataframe tbody tr th {\n",
              "        vertical-align: top;\n",
              "    }\n",
              "\n",
              "    .dataframe thead th {\n",
              "        text-align: right;\n",
              "    }\n",
              "</style>\n",
              "<table border=\"1\" class=\"dataframe\">\n",
              "  <thead>\n",
              "    <tr style=\"text-align: right;\">\n",
              "      <th></th>\n",
              "      <th>text</th>\n",
              "      <th>label</th>\n",
              "    </tr>\n",
              "  </thead>\n",
              "  <tbody>\n",
              "    <tr>\n",
              "      <th>0</th>\n",
              "      <td>अमेरिकामा कोभिड बाट एकै दिन चार हजारभन्दा बढीक...</td>\n",
              "      <td>-1</td>\n",
              "    </tr>\n",
              "    <tr>\n",
              "      <th>1</th>\n",
              "      <td>कोभिड का कारण विदेशमा रहेका नेपालीहरुमा मानसिक...</td>\n",
              "      <td>-1</td>\n",
              "    </tr>\n",
              "    <tr>\n",
              "      <th>2</th>\n",
              "      <td>नेपालमा क्लोभर बायोफार्मास्युटिकल्स अस्ट्रेलिय...</td>\n",
              "      <td>1</td>\n",
              "    </tr>\n",
              "    <tr>\n",
              "      <th>3</th>\n",
              "      <td>कोभिड को खोप पनि लगाइयो</td>\n",
              "      <td>0</td>\n",
              "    </tr>\n",
              "    <tr>\n",
              "      <th>4</th>\n",
              "      <td>अमेरिकामा कोभिड को नयाँ रेकर्ड एकै दिन हजारभन्...</td>\n",
              "      <td>-1</td>\n",
              "    </tr>\n",
              "  </tbody>\n",
              "</table>\n",
              "</div>\n",
              "      <button class=\"colab-df-convert\" onclick=\"convertToInteractive('df-c0c85cf3-d21c-41b5-8e4a-8311012a3d2d')\"\n",
              "              title=\"Convert this dataframe to an interactive table.\"\n",
              "              style=\"display:none;\">\n",
              "        \n",
              "  <svg xmlns=\"http://www.w3.org/2000/svg\" height=\"24px\"viewBox=\"0 0 24 24\"\n",
              "       width=\"24px\">\n",
              "    <path d=\"M0 0h24v24H0V0z\" fill=\"none\"/>\n",
              "    <path d=\"M18.56 5.44l.94 2.06.94-2.06 2.06-.94-2.06-.94-.94-2.06-.94 2.06-2.06.94zm-11 1L8.5 8.5l.94-2.06 2.06-.94-2.06-.94L8.5 2.5l-.94 2.06-2.06.94zm10 10l.94 2.06.94-2.06 2.06-.94-2.06-.94-.94-2.06-.94 2.06-2.06.94z\"/><path d=\"M17.41 7.96l-1.37-1.37c-.4-.4-.92-.59-1.43-.59-.52 0-1.04.2-1.43.59L10.3 9.45l-7.72 7.72c-.78.78-.78 2.05 0 2.83L4 21.41c.39.39.9.59 1.41.59.51 0 1.02-.2 1.41-.59l7.78-7.78 2.81-2.81c.8-.78.8-2.07 0-2.86zM5.41 20L4 18.59l7.72-7.72 1.47 1.35L5.41 20z\"/>\n",
              "  </svg>\n",
              "      </button>\n",
              "      \n",
              "  <style>\n",
              "    .colab-df-container {\n",
              "      display:flex;\n",
              "      flex-wrap:wrap;\n",
              "      gap: 12px;\n",
              "    }\n",
              "\n",
              "    .colab-df-convert {\n",
              "      background-color: #E8F0FE;\n",
              "      border: none;\n",
              "      border-radius: 50%;\n",
              "      cursor: pointer;\n",
              "      display: none;\n",
              "      fill: #1967D2;\n",
              "      height: 32px;\n",
              "      padding: 0 0 0 0;\n",
              "      width: 32px;\n",
              "    }\n",
              "\n",
              "    .colab-df-convert:hover {\n",
              "      background-color: #E2EBFA;\n",
              "      box-shadow: 0px 1px 2px rgba(60, 64, 67, 0.3), 0px 1px 3px 1px rgba(60, 64, 67, 0.15);\n",
              "      fill: #174EA6;\n",
              "    }\n",
              "\n",
              "    [theme=dark] .colab-df-convert {\n",
              "      background-color: #3B4455;\n",
              "      fill: #D2E3FC;\n",
              "    }\n",
              "\n",
              "    [theme=dark] .colab-df-convert:hover {\n",
              "      background-color: #434B5C;\n",
              "      box-shadow: 0px 1px 3px 1px rgba(0, 0, 0, 0.15);\n",
              "      filter: drop-shadow(0px 1px 2px rgba(0, 0, 0, 0.3));\n",
              "      fill: #FFFFFF;\n",
              "    }\n",
              "  </style>\n",
              "\n",
              "      <script>\n",
              "        const buttonEl =\n",
              "          document.querySelector('#df-c0c85cf3-d21c-41b5-8e4a-8311012a3d2d button.colab-df-convert');\n",
              "        buttonEl.style.display =\n",
              "          google.colab.kernel.accessAllowed ? 'block' : 'none';\n",
              "\n",
              "        async function convertToInteractive(key) {\n",
              "          const element = document.querySelector('#df-c0c85cf3-d21c-41b5-8e4a-8311012a3d2d');\n",
              "          const dataTable =\n",
              "            await google.colab.kernel.invokeFunction('convertToInteractive',\n",
              "                                                     [key], {});\n",
              "          if (!dataTable) return;\n",
              "\n",
              "          const docLinkHtml = 'Like what you see? Visit the ' +\n",
              "            '<a target=\"_blank\" href=https://colab.research.google.com/notebooks/data_table.ipynb>data table notebook</a>'\n",
              "            + ' to learn more about interactive tables.';\n",
              "          element.innerHTML = '';\n",
              "          dataTable['output_type'] = 'display_data';\n",
              "          await google.colab.output.renderOutput(dataTable, element);\n",
              "          const docLink = document.createElement('div');\n",
              "          docLink.innerHTML = docLinkHtml;\n",
              "          element.appendChild(docLink);\n",
              "        }\n",
              "      </script>\n",
              "    </div>\n",
              "  </div>\n",
              "  "
            ]
          },
          "metadata": {},
          "execution_count": 14
        }
      ]
    },
    {
      "cell_type": "code",
      "source": [
        "df_filtered.describe()"
      ],
      "metadata": {
        "colab": {
          "base_uri": "https://localhost:8080/",
          "height": 175
        },
        "id": "NK8GTf6hmNUa",
        "outputId": "b559e053-f981-47b5-e389-0b42d44fe612"
      },
      "execution_count": null,
      "outputs": [
        {
          "output_type": "execute_result",
          "data": {
            "text/plain": [
              "                                                     text  label\n",
              "count                                               32824  32824\n",
              "unique                                              32808      3\n",
              "top     कोभिड ले स्वास्थ्य खर्च अकासिने अर्थतन्त्र मन्...      1\n",
              "freq                                                    2  14823"
            ],
            "text/html": [
              "\n",
              "  <div id=\"df-1635c64e-a416-4c4d-9521-0883e3b75b60\">\n",
              "    <div class=\"colab-df-container\">\n",
              "      <div>\n",
              "<style scoped>\n",
              "    .dataframe tbody tr th:only-of-type {\n",
              "        vertical-align: middle;\n",
              "    }\n",
              "\n",
              "    .dataframe tbody tr th {\n",
              "        vertical-align: top;\n",
              "    }\n",
              "\n",
              "    .dataframe thead th {\n",
              "        text-align: right;\n",
              "    }\n",
              "</style>\n",
              "<table border=\"1\" class=\"dataframe\">\n",
              "  <thead>\n",
              "    <tr style=\"text-align: right;\">\n",
              "      <th></th>\n",
              "      <th>text</th>\n",
              "      <th>label</th>\n",
              "    </tr>\n",
              "  </thead>\n",
              "  <tbody>\n",
              "    <tr>\n",
              "      <th>count</th>\n",
              "      <td>32824</td>\n",
              "      <td>32824</td>\n",
              "    </tr>\n",
              "    <tr>\n",
              "      <th>unique</th>\n",
              "      <td>32808</td>\n",
              "      <td>3</td>\n",
              "    </tr>\n",
              "    <tr>\n",
              "      <th>top</th>\n",
              "      <td>कोभिड ले स्वास्थ्य खर्च अकासिने अर्थतन्त्र मन्...</td>\n",
              "      <td>1</td>\n",
              "    </tr>\n",
              "    <tr>\n",
              "      <th>freq</th>\n",
              "      <td>2</td>\n",
              "      <td>14823</td>\n",
              "    </tr>\n",
              "  </tbody>\n",
              "</table>\n",
              "</div>\n",
              "      <button class=\"colab-df-convert\" onclick=\"convertToInteractive('df-1635c64e-a416-4c4d-9521-0883e3b75b60')\"\n",
              "              title=\"Convert this dataframe to an interactive table.\"\n",
              "              style=\"display:none;\">\n",
              "        \n",
              "  <svg xmlns=\"http://www.w3.org/2000/svg\" height=\"24px\"viewBox=\"0 0 24 24\"\n",
              "       width=\"24px\">\n",
              "    <path d=\"M0 0h24v24H0V0z\" fill=\"none\"/>\n",
              "    <path d=\"M18.56 5.44l.94 2.06.94-2.06 2.06-.94-2.06-.94-.94-2.06-.94 2.06-2.06.94zm-11 1L8.5 8.5l.94-2.06 2.06-.94-2.06-.94L8.5 2.5l-.94 2.06-2.06.94zm10 10l.94 2.06.94-2.06 2.06-.94-2.06-.94-.94-2.06-.94 2.06-2.06.94z\"/><path d=\"M17.41 7.96l-1.37-1.37c-.4-.4-.92-.59-1.43-.59-.52 0-1.04.2-1.43.59L10.3 9.45l-7.72 7.72c-.78.78-.78 2.05 0 2.83L4 21.41c.39.39.9.59 1.41.59.51 0 1.02-.2 1.41-.59l7.78-7.78 2.81-2.81c.8-.78.8-2.07 0-2.86zM5.41 20L4 18.59l7.72-7.72 1.47 1.35L5.41 20z\"/>\n",
              "  </svg>\n",
              "      </button>\n",
              "      \n",
              "  <style>\n",
              "    .colab-df-container {\n",
              "      display:flex;\n",
              "      flex-wrap:wrap;\n",
              "      gap: 12px;\n",
              "    }\n",
              "\n",
              "    .colab-df-convert {\n",
              "      background-color: #E8F0FE;\n",
              "      border: none;\n",
              "      border-radius: 50%;\n",
              "      cursor: pointer;\n",
              "      display: none;\n",
              "      fill: #1967D2;\n",
              "      height: 32px;\n",
              "      padding: 0 0 0 0;\n",
              "      width: 32px;\n",
              "    }\n",
              "\n",
              "    .colab-df-convert:hover {\n",
              "      background-color: #E2EBFA;\n",
              "      box-shadow: 0px 1px 2px rgba(60, 64, 67, 0.3), 0px 1px 3px 1px rgba(60, 64, 67, 0.15);\n",
              "      fill: #174EA6;\n",
              "    }\n",
              "\n",
              "    [theme=dark] .colab-df-convert {\n",
              "      background-color: #3B4455;\n",
              "      fill: #D2E3FC;\n",
              "    }\n",
              "\n",
              "    [theme=dark] .colab-df-convert:hover {\n",
              "      background-color: #434B5C;\n",
              "      box-shadow: 0px 1px 3px 1px rgba(0, 0, 0, 0.15);\n",
              "      filter: drop-shadow(0px 1px 2px rgba(0, 0, 0, 0.3));\n",
              "      fill: #FFFFFF;\n",
              "    }\n",
              "  </style>\n",
              "\n",
              "      <script>\n",
              "        const buttonEl =\n",
              "          document.querySelector('#df-1635c64e-a416-4c4d-9521-0883e3b75b60 button.colab-df-convert');\n",
              "        buttonEl.style.display =\n",
              "          google.colab.kernel.accessAllowed ? 'block' : 'none';\n",
              "\n",
              "        async function convertToInteractive(key) {\n",
              "          const element = document.querySelector('#df-1635c64e-a416-4c4d-9521-0883e3b75b60');\n",
              "          const dataTable =\n",
              "            await google.colab.kernel.invokeFunction('convertToInteractive',\n",
              "                                                     [key], {});\n",
              "          if (!dataTable) return;\n",
              "\n",
              "          const docLinkHtml = 'Like what you see? Visit the ' +\n",
              "            '<a target=\"_blank\" href=https://colab.research.google.com/notebooks/data_table.ipynb>data table notebook</a>'\n",
              "            + ' to learn more about interactive tables.';\n",
              "          element.innerHTML = '';\n",
              "          dataTable['output_type'] = 'display_data';\n",
              "          await google.colab.output.renderOutput(dataTable, element);\n",
              "          const docLink = document.createElement('div');\n",
              "          docLink.innerHTML = docLinkHtml;\n",
              "          element.appendChild(docLink);\n",
              "        }\n",
              "      </script>\n",
              "    </div>\n",
              "  </div>\n",
              "  "
            ]
          },
          "metadata": {},
          "execution_count": 15
        }
      ]
    },
    {
      "cell_type": "code",
      "source": [
        "# Neplai stowords : it also includes nltk stopwords\n",
        "!wget https://raw.githubusercontent.com/Suyogyart/nepali-transformers-evaluation/main/code/preprocessing/nepali_stopwords.txt\n",
        "\n",
        "nepali_stopwords = set(line.strip() for line in open('nepali_stopwords.txt', 'r'))"
      ],
      "metadata": {
        "colab": {
          "base_uri": "https://localhost:8080/"
        },
        "id": "AWVNqBolmTcR",
        "outputId": "9657e938-052e-4aba-f930-ed99db84a791"
      },
      "execution_count": null,
      "outputs": [
        {
          "output_type": "stream",
          "name": "stdout",
          "text": [
            "--2023-01-14 14:06:11--  https://raw.githubusercontent.com/Suyogyart/nepali-transformers-evaluation/main/code/preprocessing/nepali_stopwords.txt\n",
            "Resolving raw.githubusercontent.com (raw.githubusercontent.com)... 185.199.108.133, 185.199.109.133, 185.199.110.133, ...\n",
            "Connecting to raw.githubusercontent.com (raw.githubusercontent.com)|185.199.108.133|:443... connected.\n",
            "HTTP request sent, awaiting response... 200 OK\n",
            "Length: 7189 (7.0K) [text/plain]\n",
            "Saving to: ‘nepali_stopwords.txt’\n",
            "\n",
            "nepali_stopwords.tx 100%[===================>]   7.02K  --.-KB/s    in 0s      \n",
            "\n",
            "2023-01-14 14:06:11 (66.8 MB/s) - ‘nepali_stopwords.txt’ saved [7189/7189]\n",
            "\n"
          ]
        }
      ]
    },
    {
      "cell_type": "code",
      "source": [
        "def get_counter_obj(text,remove_stopword =False, n=10):\n",
        "  # Tokenize the sentences in the first column of the DataFrame\n",
        "  tokenized_sentences = np.array([word_tokenize(sentence) for sentence in text.values])\n",
        "  flattened_list = [word for sublist in tokenized_sentences for word in sublist]\n",
        "  if remove_stopword:\n",
        "    flattened_list =[ word for word in flattened_list if word not in nepali_stopwords]\n",
        "    \n",
        "  # Count the occurrences of each word\n",
        "  word_counts = Counter(flattened_list)\n",
        "  return word_counts.most_common(n)"
      ],
      "metadata": {
        "id": "inU1-qkHmfxF"
      },
      "execution_count": null,
      "outputs": []
    },
    {
      "cell_type": "code",
      "source": [
        "most_repeated_words = df_filtered.groupby('label')['text'].apply(lambda x : get_counter_obj(x,remove_stopword =True))"
      ],
      "metadata": {
        "colab": {
          "base_uri": "https://localhost:8080/"
        },
        "id": "Nm1wWoHOmky8",
        "outputId": "34ce7fe3-e108-4af8-cb68-a1e76d352bb7"
      },
      "execution_count": null,
      "outputs": [
        {
          "output_type": "stream",
          "name": "stderr",
          "text": [
            "<ipython-input-17-f787118ed0e5>:3: VisibleDeprecationWarning: Creating an ndarray from ragged nested sequences (which is a list-or-tuple of lists-or-tuples-or ndarrays with different lengths or shapes) is deprecated. If you meant to do this, you must specify 'dtype=object' when creating the ndarray.\n",
            "  tokenized_sentences = np.array([word_tokenize(sentence) for sentence in text.values])\n"
          ]
        }
      ]
    },
    {
      "cell_type": "code",
      "source": [
        "# Convert the series to a dataframe and flatten the dataframe\n",
        "df_words = pd.DataFrame.from_dict(most_repeated_words.to_dict()).melt()\n",
        "\n",
        "# Rename the columns\n",
        "df_words = df_words.rename(columns={'variable':'label', 'value':'word_count'})\n",
        "\n",
        "# Extract the word and count from the tuple\n",
        "df_words[['word', 'count']] = pd.DataFrame(df_words['word_count'].tolist())\n",
        "df_words"
      ],
      "metadata": {
        "colab": {
          "base_uri": "https://localhost:8080/",
          "height": 990
        },
        "id": "5B0LVeesmlhU",
        "outputId": "16b095c4-df30-4aa8-86eb-ce42dcf4e224"
      },
      "execution_count": null,
      "outputs": [
        {
          "output_type": "execute_result",
          "data": {
            "text/plain": [
              "   label         word_count       word  count\n",
              "0     -1     (कोभिड, 13714)      कोभिड  13714\n",
              "1     -1     (कोरोना, 4497)     कोरोना   4497\n",
              "2     -1     (मृत्यु, 2905)     मृत्यु   2905\n",
              "3     -1      (भाइरस, 2567)      भाइरस   2567\n",
              "4     -1    (संक्रमण, 2243)    संक्रमण   2243\n",
              "5     -1     (संख्या, 1856)     संख्या   1856\n",
              "6     -1     (पुष्टि, 1725)     पुष्टि   1725\n",
              "7     -1   (संक्रमित, 1647)   संक्रमित   1647\n",
              "8     -1      (जनामा, 1419)      जनामा   1419\n",
              "9     -1    (नेपालमा, 1286)    नेपालमा   1286\n",
              "10     0      (कोभिड, 4621)      कोभिड   4621\n",
              "11     0      (कोरोना, 790)     कोरोना    790\n",
              "12     0       (भाइरस, 466)      भाइरस    466\n",
              "13     0     (संक्रमण, 322)    संक्रमण    322\n",
              "14     0   (स्वास्थ्य, 303)  स्वास्थ्य    303\n",
              "15     0         (खोप, 234)        खोप    234\n",
              "16     0       (नेपाल, 234)      नेपाल    234\n",
              "17     0     (परीक्षण, 231)    परीक्षण    231\n",
              "18     0     (सरकारले, 225)    सरकारले    225\n",
              "19     0    (संक्रमित, 217)   संक्रमित    217\n",
              "20     1     (कोभिड, 15170)      कोभिड  15170\n",
              "21     1     (कोरोना, 3606)     कोरोना   3606\n",
              "22     1      (भाइरस, 1763)      भाइरस   1763\n",
              "23     1  (स्वास्थ्य, 1338)  स्वास्थ्य   1338\n",
              "24     1      (नेपाल, 1100)      नेपाल   1100\n",
              "25     1    (सरकारले, 1055)    सरकारले   1055\n",
              "26     1    (परीक्षण, 1022)    परीक्षण   1022\n",
              "27     1     (संक्रमण, 916)    संक्रमण    916\n",
              "28     1      (नेपाली, 884)     नेपाली    884\n",
              "29     1         (खोप, 713)        खोप    713"
            ],
            "text/html": [
              "\n",
              "  <div id=\"df-91e3b9c8-cecb-48ff-9274-77d1749274bd\">\n",
              "    <div class=\"colab-df-container\">\n",
              "      <div>\n",
              "<style scoped>\n",
              "    .dataframe tbody tr th:only-of-type {\n",
              "        vertical-align: middle;\n",
              "    }\n",
              "\n",
              "    .dataframe tbody tr th {\n",
              "        vertical-align: top;\n",
              "    }\n",
              "\n",
              "    .dataframe thead th {\n",
              "        text-align: right;\n",
              "    }\n",
              "</style>\n",
              "<table border=\"1\" class=\"dataframe\">\n",
              "  <thead>\n",
              "    <tr style=\"text-align: right;\">\n",
              "      <th></th>\n",
              "      <th>label</th>\n",
              "      <th>word_count</th>\n",
              "      <th>word</th>\n",
              "      <th>count</th>\n",
              "    </tr>\n",
              "  </thead>\n",
              "  <tbody>\n",
              "    <tr>\n",
              "      <th>0</th>\n",
              "      <td>-1</td>\n",
              "      <td>(कोभिड, 13714)</td>\n",
              "      <td>कोभिड</td>\n",
              "      <td>13714</td>\n",
              "    </tr>\n",
              "    <tr>\n",
              "      <th>1</th>\n",
              "      <td>-1</td>\n",
              "      <td>(कोरोना, 4497)</td>\n",
              "      <td>कोरोना</td>\n",
              "      <td>4497</td>\n",
              "    </tr>\n",
              "    <tr>\n",
              "      <th>2</th>\n",
              "      <td>-1</td>\n",
              "      <td>(मृत्यु, 2905)</td>\n",
              "      <td>मृत्यु</td>\n",
              "      <td>2905</td>\n",
              "    </tr>\n",
              "    <tr>\n",
              "      <th>3</th>\n",
              "      <td>-1</td>\n",
              "      <td>(भाइरस, 2567)</td>\n",
              "      <td>भाइरस</td>\n",
              "      <td>2567</td>\n",
              "    </tr>\n",
              "    <tr>\n",
              "      <th>4</th>\n",
              "      <td>-1</td>\n",
              "      <td>(संक्रमण, 2243)</td>\n",
              "      <td>संक्रमण</td>\n",
              "      <td>2243</td>\n",
              "    </tr>\n",
              "    <tr>\n",
              "      <th>5</th>\n",
              "      <td>-1</td>\n",
              "      <td>(संख्या, 1856)</td>\n",
              "      <td>संख्या</td>\n",
              "      <td>1856</td>\n",
              "    </tr>\n",
              "    <tr>\n",
              "      <th>6</th>\n",
              "      <td>-1</td>\n",
              "      <td>(पुष्टि, 1725)</td>\n",
              "      <td>पुष्टि</td>\n",
              "      <td>1725</td>\n",
              "    </tr>\n",
              "    <tr>\n",
              "      <th>7</th>\n",
              "      <td>-1</td>\n",
              "      <td>(संक्रमित, 1647)</td>\n",
              "      <td>संक्रमित</td>\n",
              "      <td>1647</td>\n",
              "    </tr>\n",
              "    <tr>\n",
              "      <th>8</th>\n",
              "      <td>-1</td>\n",
              "      <td>(जनामा, 1419)</td>\n",
              "      <td>जनामा</td>\n",
              "      <td>1419</td>\n",
              "    </tr>\n",
              "    <tr>\n",
              "      <th>9</th>\n",
              "      <td>-1</td>\n",
              "      <td>(नेपालमा, 1286)</td>\n",
              "      <td>नेपालमा</td>\n",
              "      <td>1286</td>\n",
              "    </tr>\n",
              "    <tr>\n",
              "      <th>10</th>\n",
              "      <td>0</td>\n",
              "      <td>(कोभिड, 4621)</td>\n",
              "      <td>कोभिड</td>\n",
              "      <td>4621</td>\n",
              "    </tr>\n",
              "    <tr>\n",
              "      <th>11</th>\n",
              "      <td>0</td>\n",
              "      <td>(कोरोना, 790)</td>\n",
              "      <td>कोरोना</td>\n",
              "      <td>790</td>\n",
              "    </tr>\n",
              "    <tr>\n",
              "      <th>12</th>\n",
              "      <td>0</td>\n",
              "      <td>(भाइरस, 466)</td>\n",
              "      <td>भाइरस</td>\n",
              "      <td>466</td>\n",
              "    </tr>\n",
              "    <tr>\n",
              "      <th>13</th>\n",
              "      <td>0</td>\n",
              "      <td>(संक्रमण, 322)</td>\n",
              "      <td>संक्रमण</td>\n",
              "      <td>322</td>\n",
              "    </tr>\n",
              "    <tr>\n",
              "      <th>14</th>\n",
              "      <td>0</td>\n",
              "      <td>(स्वास्थ्य, 303)</td>\n",
              "      <td>स्वास्थ्य</td>\n",
              "      <td>303</td>\n",
              "    </tr>\n",
              "    <tr>\n",
              "      <th>15</th>\n",
              "      <td>0</td>\n",
              "      <td>(खोप, 234)</td>\n",
              "      <td>खोप</td>\n",
              "      <td>234</td>\n",
              "    </tr>\n",
              "    <tr>\n",
              "      <th>16</th>\n",
              "      <td>0</td>\n",
              "      <td>(नेपाल, 234)</td>\n",
              "      <td>नेपाल</td>\n",
              "      <td>234</td>\n",
              "    </tr>\n",
              "    <tr>\n",
              "      <th>17</th>\n",
              "      <td>0</td>\n",
              "      <td>(परीक्षण, 231)</td>\n",
              "      <td>परीक्षण</td>\n",
              "      <td>231</td>\n",
              "    </tr>\n",
              "    <tr>\n",
              "      <th>18</th>\n",
              "      <td>0</td>\n",
              "      <td>(सरकारले, 225)</td>\n",
              "      <td>सरकारले</td>\n",
              "      <td>225</td>\n",
              "    </tr>\n",
              "    <tr>\n",
              "      <th>19</th>\n",
              "      <td>0</td>\n",
              "      <td>(संक्रमित, 217)</td>\n",
              "      <td>संक्रमित</td>\n",
              "      <td>217</td>\n",
              "    </tr>\n",
              "    <tr>\n",
              "      <th>20</th>\n",
              "      <td>1</td>\n",
              "      <td>(कोभिड, 15170)</td>\n",
              "      <td>कोभिड</td>\n",
              "      <td>15170</td>\n",
              "    </tr>\n",
              "    <tr>\n",
              "      <th>21</th>\n",
              "      <td>1</td>\n",
              "      <td>(कोरोना, 3606)</td>\n",
              "      <td>कोरोना</td>\n",
              "      <td>3606</td>\n",
              "    </tr>\n",
              "    <tr>\n",
              "      <th>22</th>\n",
              "      <td>1</td>\n",
              "      <td>(भाइरस, 1763)</td>\n",
              "      <td>भाइरस</td>\n",
              "      <td>1763</td>\n",
              "    </tr>\n",
              "    <tr>\n",
              "      <th>23</th>\n",
              "      <td>1</td>\n",
              "      <td>(स्वास्थ्य, 1338)</td>\n",
              "      <td>स्वास्थ्य</td>\n",
              "      <td>1338</td>\n",
              "    </tr>\n",
              "    <tr>\n",
              "      <th>24</th>\n",
              "      <td>1</td>\n",
              "      <td>(नेपाल, 1100)</td>\n",
              "      <td>नेपाल</td>\n",
              "      <td>1100</td>\n",
              "    </tr>\n",
              "    <tr>\n",
              "      <th>25</th>\n",
              "      <td>1</td>\n",
              "      <td>(सरकारले, 1055)</td>\n",
              "      <td>सरकारले</td>\n",
              "      <td>1055</td>\n",
              "    </tr>\n",
              "    <tr>\n",
              "      <th>26</th>\n",
              "      <td>1</td>\n",
              "      <td>(परीक्षण, 1022)</td>\n",
              "      <td>परीक्षण</td>\n",
              "      <td>1022</td>\n",
              "    </tr>\n",
              "    <tr>\n",
              "      <th>27</th>\n",
              "      <td>1</td>\n",
              "      <td>(संक्रमण, 916)</td>\n",
              "      <td>संक्रमण</td>\n",
              "      <td>916</td>\n",
              "    </tr>\n",
              "    <tr>\n",
              "      <th>28</th>\n",
              "      <td>1</td>\n",
              "      <td>(नेपाली, 884)</td>\n",
              "      <td>नेपाली</td>\n",
              "      <td>884</td>\n",
              "    </tr>\n",
              "    <tr>\n",
              "      <th>29</th>\n",
              "      <td>1</td>\n",
              "      <td>(खोप, 713)</td>\n",
              "      <td>खोप</td>\n",
              "      <td>713</td>\n",
              "    </tr>\n",
              "  </tbody>\n",
              "</table>\n",
              "</div>\n",
              "      <button class=\"colab-df-convert\" onclick=\"convertToInteractive('df-91e3b9c8-cecb-48ff-9274-77d1749274bd')\"\n",
              "              title=\"Convert this dataframe to an interactive table.\"\n",
              "              style=\"display:none;\">\n",
              "        \n",
              "  <svg xmlns=\"http://www.w3.org/2000/svg\" height=\"24px\"viewBox=\"0 0 24 24\"\n",
              "       width=\"24px\">\n",
              "    <path d=\"M0 0h24v24H0V0z\" fill=\"none\"/>\n",
              "    <path d=\"M18.56 5.44l.94 2.06.94-2.06 2.06-.94-2.06-.94-.94-2.06-.94 2.06-2.06.94zm-11 1L8.5 8.5l.94-2.06 2.06-.94-2.06-.94L8.5 2.5l-.94 2.06-2.06.94zm10 10l.94 2.06.94-2.06 2.06-.94-2.06-.94-.94-2.06-.94 2.06-2.06.94z\"/><path d=\"M17.41 7.96l-1.37-1.37c-.4-.4-.92-.59-1.43-.59-.52 0-1.04.2-1.43.59L10.3 9.45l-7.72 7.72c-.78.78-.78 2.05 0 2.83L4 21.41c.39.39.9.59 1.41.59.51 0 1.02-.2 1.41-.59l7.78-7.78 2.81-2.81c.8-.78.8-2.07 0-2.86zM5.41 20L4 18.59l7.72-7.72 1.47 1.35L5.41 20z\"/>\n",
              "  </svg>\n",
              "      </button>\n",
              "      \n",
              "  <style>\n",
              "    .colab-df-container {\n",
              "      display:flex;\n",
              "      flex-wrap:wrap;\n",
              "      gap: 12px;\n",
              "    }\n",
              "\n",
              "    .colab-df-convert {\n",
              "      background-color: #E8F0FE;\n",
              "      border: none;\n",
              "      border-radius: 50%;\n",
              "      cursor: pointer;\n",
              "      display: none;\n",
              "      fill: #1967D2;\n",
              "      height: 32px;\n",
              "      padding: 0 0 0 0;\n",
              "      width: 32px;\n",
              "    }\n",
              "\n",
              "    .colab-df-convert:hover {\n",
              "      background-color: #E2EBFA;\n",
              "      box-shadow: 0px 1px 2px rgba(60, 64, 67, 0.3), 0px 1px 3px 1px rgba(60, 64, 67, 0.15);\n",
              "      fill: #174EA6;\n",
              "    }\n",
              "\n",
              "    [theme=dark] .colab-df-convert {\n",
              "      background-color: #3B4455;\n",
              "      fill: #D2E3FC;\n",
              "    }\n",
              "\n",
              "    [theme=dark] .colab-df-convert:hover {\n",
              "      background-color: #434B5C;\n",
              "      box-shadow: 0px 1px 3px 1px rgba(0, 0, 0, 0.15);\n",
              "      filter: drop-shadow(0px 1px 2px rgba(0, 0, 0, 0.3));\n",
              "      fill: #FFFFFF;\n",
              "    }\n",
              "  </style>\n",
              "\n",
              "      <script>\n",
              "        const buttonEl =\n",
              "          document.querySelector('#df-91e3b9c8-cecb-48ff-9274-77d1749274bd button.colab-df-convert');\n",
              "        buttonEl.style.display =\n",
              "          google.colab.kernel.accessAllowed ? 'block' : 'none';\n",
              "\n",
              "        async function convertToInteractive(key) {\n",
              "          const element = document.querySelector('#df-91e3b9c8-cecb-48ff-9274-77d1749274bd');\n",
              "          const dataTable =\n",
              "            await google.colab.kernel.invokeFunction('convertToInteractive',\n",
              "                                                     [key], {});\n",
              "          if (!dataTable) return;\n",
              "\n",
              "          const docLinkHtml = 'Like what you see? Visit the ' +\n",
              "            '<a target=\"_blank\" href=https://colab.research.google.com/notebooks/data_table.ipynb>data table notebook</a>'\n",
              "            + ' to learn more about interactive tables.';\n",
              "          element.innerHTML = '';\n",
              "          dataTable['output_type'] = 'display_data';\n",
              "          await google.colab.output.renderOutput(dataTable, element);\n",
              "          const docLink = document.createElement('div');\n",
              "          docLink.innerHTML = docLinkHtml;\n",
              "          element.appendChild(docLink);\n",
              "        }\n",
              "      </script>\n",
              "    </div>\n",
              "  </div>\n",
              "  "
            ]
          },
          "metadata": {},
          "execution_count": 19
        }
      ]
    },
    {
      "cell_type": "code",
      "source": [
        "# Group the data by the 'label' column\n",
        "groups = df_words.groupby('label')\n",
        "\n",
        "# Create a figure with 4 rows and 4 columns\n",
        "fig, ax = plt.subplots(nrows=3, ncols=1, figsize=(7, 10))\n",
        "\n",
        "# Iterate through the groups and plot a histogram of the text length values for each group\n",
        "for i, (name, group) in enumerate(groups):\n",
        "    sns.barplot(data=group, x='count',y='word', ax=ax[i%3], orient='h')\n",
        "    ax[i%3].set_xlabel('count')\n",
        "    ax[i%3].set_ylabel('words')\n",
        "    if name == \"-1\":\n",
        "      ax[i%3].set_title(\"Negative\")\n",
        "    elif name == \"1\":\n",
        "      ax[i%3].set_title(\"Positive\")\n",
        "    else:\n",
        "      ax[i%3].set_title(\"Neutral\")\n",
        "\n",
        "    ax[i%3].tick_params(labelbottom=True)\n",
        "\n",
        "    # Get the x-axis tick labels\n",
        "    labels = ax[i%3].get_yticklabels()\n",
        "\n",
        "    # Set the font properties for the tick labels\n",
        "    for label in labels:\n",
        "      label.set_fontproperties(fprop)\n",
        "\n",
        "plt.tight_layout()\n",
        "plt.show()"
      ],
      "metadata": {
        "colab": {
          "base_uri": "https://localhost:8080/",
          "height": 1000
        },
        "id": "Axmnzrfemnbt",
        "outputId": "752a61d7-93cd-40b6-9f15-f1eb6794426c"
      },
      "execution_count": null,
      "outputs": [
        {
          "output_type": "stream",
          "name": "stderr",
          "text": [
            "/usr/local/lib/python3.8/dist-packages/matplotlib/backends/backend_agg.py:214: RuntimeWarning: Glyph 108 missing from current font.\n",
            "  font.set_text(s, 0.0, flags=flags)\n",
            "/usr/local/lib/python3.8/dist-packages/matplotlib/backends/backend_agg.py:214: RuntimeWarning: Glyph 112 missing from current font.\n",
            "  font.set_text(s, 0.0, flags=flags)\n"
          ]
        },
        {
          "output_type": "display_data",
          "data": {
            "text/plain": [
              "<Figure size 700x1000 with 3 Axes>"
            ],
            "image/png": "[encoded data removed]"
          },
          "metadata": {}
        }
      ]
    },
    {
      "cell_type": "markdown",
      "source": [
        "# Export Cleaned data"
      ],
      "metadata": {
        "id": "ZXUNRUNkuWKH"
      }
    },
    {
      "cell_type": "code",
      "source": [
        "path = r\"/content/drive/MyDrive/fusemachines/sentiment-analysis/dataset/clean/cleaned_dataset.csv\"\n",
        "df_filtered.to_csv(path, encoding='utf-8', index=False)"
      ],
      "metadata": {
        "id": "2y9YFkOqtm-t"
      },
      "execution_count": null,
      "outputs": []
    },
    {
      "cell_type": "markdown",
      "source": [
        "# Binary Classification\n",
        "\n",
        "Prepare Data for binary classification into only positive and negative classes (by removing the neutral class)"
      ],
      "metadata": {
        "id": "o3T__WZyvNK7"
      }
    },
    {
      "cell_type": "code",
      "source": [
        "df_binary = df_final[ (df_final['label'] == '1') | (df_final['label'] == '-1')]"
      ],
      "metadata": {
        "id": "Ixgao6abvQXn"
      },
      "execution_count": null,
      "outputs": []
    },
    {
      "cell_type": "code",
      "source": [
        "df_binary[\"label\"].value_counts()"
      ],
      "metadata": {
        "colab": {
          "base_uri": "https://localhost:8080/"
        },
        "id": "CZ38uBgVvVC2",
        "outputId": "85dbd9fd-9e2d-49f2-8510-3171042daaca"
      },
      "execution_count": null,
      "outputs": [
        {
          "output_type": "execute_result",
          "data": {
            "text/plain": [
              "1     14823\n",
              "-1    13410\n",
              "Name: label, dtype: int64"
            ]
          },
          "metadata": {},
          "execution_count": 22
        }
      ]
    },
    {
      "cell_type": "code",
      "source": [
        "# create the value_counts series\n",
        "value_counts_series = df_binary['label'].value_counts()\n",
        "\n",
        "# plot the value_counts series\n",
        "sns.set(rc={'figure.figsize':(8,5)})\n",
        "sns.barplot(x=value_counts_series.index, y=value_counts_series.values)\n",
        "\n",
        "# Get the current Axes object\n",
        "ax = plt.gca()\n",
        "\n",
        "# Set the labels of the x-axis\n",
        "ax.set_xticklabels([\"Positive\", \"Negative\"])\n",
        "plt.xticks(rotation=45)\n",
        "\n",
        "# show the plot\n",
        "plt.show()"
      ],
      "metadata": {
        "colab": {
          "base_uri": "https://localhost:8080/",
          "height": 486
        },
        "id": "C-C_dC1fnKyb",
        "outputId": "71cb2f67-43c5-4a87-edec-485920470f95"
      },
      "execution_count": null,
      "outputs": [
        {
          "output_type": "display_data",
          "data": {
            "text/plain": [
              "<Figure size 800x500 with 1 Axes>"
            ],
            "image/png": "[encoded data removed]"
          },
          "metadata": {}
        }
      ]
    },
    {
      "cell_type": "code",
      "source": [
        "# export data\n",
        "path = r\"/content/drive/MyDrive/fusemachines/sentiment-analysis/dataset/clean/binary_dataset.csv\"\n",
        "df_binary.to_csv(path, encoding='utf-8', index=False)"
      ],
      "metadata": {
        "id": "RMsbUM10vfgg"
      },
      "execution_count": null,
      "outputs": []
    }
  ]
}